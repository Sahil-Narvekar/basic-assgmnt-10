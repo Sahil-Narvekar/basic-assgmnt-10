{
 "cells": [
  {
   "cell_type": "code",
   "execution_count": null,
   "metadata": {},
   "outputs": [],
   "source": [
    "1. How do you distinguish between shutil.copy() and shutil.copytree()?\n",
    "\n",
    "Calling shutil.copy(source, destination) will copy the file at the path \n",
    "source to the folder at the path destination. (Both source and destination \n",
    "are strings.) If destination is a filename, it will be used as the new\n",
    "name of the copied file. This function returns a string of the path of \n",
    "the copied file.\n",
    "\n",
    "The original Admittance_with_comments.ipynb filename is used for the new,\n",
    "copied file’s filename.\n",
    "\n",
    "import shutil, os\n",
    "os.chdir('C:\\\\')\n",
    "shutil.copy(\"C:\\\\Users\\\\Sahil\\\\Downloads\\\\Admittance_with_comments.ipynb\",\"C:\\\\Users\\\\Public\\\\Music\")\n",
    "o/p:'C:\\\\Users\\\\Public\\\\Music\\\\Admittance_with_comments.ipynb'\n",
    "    \n",
    "shutil.copytree() will copy an entire folder and every folder and file contained \n",
    "in it. Calling shutil.copytree(source, destination) will copy the folder at the \n",
    "path source, along with all of its files and subfolders, to the folder at the \n",
    "path destination.The source and destination parameters are both strings.\n",
    "The function returns a string of the path of the copied folder.\n",
    "\n",
    "import shutil, os\n",
    "os.chdir('C:\\\\')\n",
    "shutil.copytree(\"C:\\\\ProgramData\\\\ASUS\\\\ASUS Live Update\\\\Temp\", \"C:\\\\GOG Games\\\\temp backup\")\n",
    "o/p:'C:\\\\GOG Games\\\\temp backup'"
   ]
  },
  {
   "cell_type": "code",
   "execution_count": null,
   "metadata": {},
   "outputs": [],
   "source": [
    "2. What is the name of the feature used to rename files?\n",
    "os.rename(\"C:\\\\Users\\\\Sahil\\\\Desktop\\\\New Excel.xlsx\",\"C:\\\\Users\\\\Sahil\\\\Desktop\\\\New Excel5.xlsx\")\n",
    "os.rename can be used to rename file, here New Excel file\n",
    "will be replaced with New Excel5 having given path."
   ]
  },
  {
   "cell_type": "code",
   "execution_count": 18,
   "metadata": {},
   "outputs": [],
   "source": [
    "3. How are the delete functions in the send2trash and shutil modules different?\n",
    "\n",
    "shutil.rmtree() is used to delete an entire directory tree,\n",
    "path must point to a directory (but not a symbolic link to a directory).\n",
    "We can use the shutil.rmtree() method to delete a folder that contains one or more files.\n",
    "\n",
    "import shutil\n",
    "\n",
    "path = \"/home/school/math/final\"\n",
    "\n",
    "shutil.rmtree(path)\n",
    "\n",
    "code removes the folder final and all its contents.If we make a mistake while using\n",
    "shutil.rmtree(path) and we won’t be able to recover the file.\n",
    "\n",
    "send2trash module is  safer alternative that sends deleted files to the trash bin instead \n",
    "of permanent removal.\n",
    "\n",
    "send2trash() function to delete a file. Inside of this function, we specify the path to the \n",
    "file. If the file is in the current working directory, then you just have to simply put the \n",
    "filename.You can do the same with directories, just as with files.\n",
    "\n",
    "import send2trash\n",
    "send2trash.send2trash.('C:\\\\Users\\\\Sahil\\\\PythonProjects9898')\n",
    "\n",
    "\n",
    "But while sending files to the recycle bin lets you recover them later, it will not free up \n",
    "disk space like permanently deleting them does. If you want your program to free up disk space, \n",
    "use the os and shutil functions for deleting files and folders. Note that the send2trash() \n",
    "function can only send files to the recycle bin; it cannot pull files out of it."
   ]
  },
  {
   "cell_type": "code",
   "execution_count": null,
   "metadata": {},
   "outputs": [],
   "source": [
    "4. ZipFile objects have a close() function that is similar to that of File objects. What \n",
    "ZipFile method is similar to the open() method of File objects?\n",
    "\n",
    "ZipFile.open(name, mode='r', pwd=None)\n",
    "Access a member of the archive as a binary file-like object. name can be either the name \n",
    "of a file within the archive or a ZipInfo object. The mode parameter, if included, must \n",
    "be 'r' (the default) or 'w'. pwd is the password used to decrypt encrypted ZIP files.\n",
    "open() is also a context manager and therefore supports the with statement:\n",
    "\n",
    "with ZipFile('kjk.zip') as myzip:\n",
    "    with myzip.open('jh.txt') as myfile:\n",
    "        print(myfile.read())\n",
    "        "
   ]
  },
  {
   "cell_type": "code",
   "execution_count": null,
   "metadata": {},
   "outputs": [],
   "source": [
    "5. Create a programme that searches a folder tree for files with a certain file extension \n",
    "(such as .pdf or .jpg). Copy these files to a new folder from wherever they are now.\n"
   ]
  },
  {
   "cell_type": "code",
   "execution_count": 56,
   "metadata": {},
   "outputs": [
    {
     "name": "stdout",
     "output_type": "stream",
     "text": [
      "\n",
      "C:\\GOG Games\\temp backup\\gender_submission.csv\n",
      "C:\\GOG Games\\temp backup\\test.csv\n",
      "C:\\GOG Games\\temp backup\\train5.csv\n",
      "\n",
      "\n",
      "\n",
      "['C:\\\\GOG Games\\\\temp backup\\\\gender_submission.csv', 'C:\\\\GOG Games\\\\temp backup\\\\test.csv', 'C:\\\\GOG Games\\\\temp backup\\\\train5.csv']\n"
     ]
    }
   ],
   "source": [
    "import os\n",
    "source_files=[]\n",
    "\n",
    "for folderName, subfolders, filenames in os.walk(\"C:\\\\GOG Games\"):\n",
    "    #print('The current folder is ' + folderName)\n",
    "\n",
    "    #for subfolder in subfolders:\n",
    "        #print('SUBFOLDER OF ' + folderName + ': ' + subfolder)\n",
    "    for filename in filenames:\n",
    "        if (filename[-3:])=='csv':\n",
    "            print(os.path.join(folderName,filename))\n",
    "            source_files.append(os.path.join(folderName,filename))\n",
    "       \n",
    "        #print('FILE INSIDE ' + folderName + ': '+ filename)\n",
    "\n",
    "    print('')\n",
    "print(source_files)\n",
    "for f in source_files:\n",
    "    shutil.copy(f, \"C:\\\\Users\\\\Sahil\\\\3D Objects\\\\destination folder python\")\n",
    "\n",
    "    \n",
    "    "
   ]
  },
  {
   "cell_type": "code",
   "execution_count": null,
   "metadata": {},
   "outputs": [],
   "source": []
  }
 ],
 "metadata": {
  "kernelspec": {
   "display_name": "Python 3",
   "language": "python",
   "name": "python3"
  },
  "language_info": {
   "codemirror_mode": {
    "name": "ipython",
    "version": 3
   },
   "file_extension": ".py",
   "mimetype": "text/x-python",
   "name": "python",
   "nbconvert_exporter": "python",
   "pygments_lexer": "ipython3",
   "version": "3.8.3"
  }
 },
 "nbformat": 4,
 "nbformat_minor": 4
}
